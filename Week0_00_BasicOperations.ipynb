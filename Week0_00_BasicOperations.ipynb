{
  "nbformat": 4,
  "nbformat_minor": 0,
  "metadata": {
    "colab": {
      "name": "Week0-00-BasicOperations.ipynb",
      "version": "0.3.2",
      "provenance": [],
      "include_colab_link": true
    },
    "kernelspec": {
      "display_name": "Python 3",
      "language": "python",
      "name": "python3"
    }
  },
  "cells": [
    {
      "cell_type": "markdown",
      "metadata": {
        "id": "view-in-github",
        "colab_type": "text"
      },
      "source": [
        "<a href=\"https://colab.research.google.com/github/shyam1234/Deep-Learning/blob/master/Week0_00_BasicOperations.ipynb\" target=\"_parent\"><img src=\"https://colab.research.google.com/assets/colab-badge.svg\" alt=\"Open In Colab\"/></a>"
      ]
    },
    {
      "metadata": {
        "id": "RT46VPvQKfDt",
        "colab_type": "text"
      },
      "cell_type": "markdown",
      "source": [
        "# Advanced Certification in AIML\n",
        "## A Program by IIIT-H and TalentSprint"
      ]
    },
    {
      "metadata": {
        "id": "T5EzgZMxKfDv",
        "colab_type": "text"
      },
      "cell_type": "markdown",
      "source": [
        "### Introduction to Python\n",
        "#### Scalar Data Types and Operations\n",
        "Python has four scalar data types:\n",
        "  * Integer\n",
        "  * Float\n",
        "  * Boolean\n",
        "  * Complex\n",
        "  \n",
        "We will review these in this notebook"
      ]
    },
    {
      "metadata": {
        "id": "8hWtdauLKpdd",
        "colab_type": "text"
      },
      "cell_type": "markdown",
      "source": [
        "### Setup Steps"
      ]
    },
    {
      "metadata": {
        "id": "lHrQdkZNKsFI",
        "colab_type": "code",
        "colab": {}
      },
      "cell_type": "code",
      "source": [
        "#@title Please enter your registration id to start: (e.g. P181900101) { run: \"auto\", display-mode: \"form\" }\n",
        "Id = \"P181901545\" #@param {type:\"string\"}\n"
      ],
      "execution_count": 0,
      "outputs": []
    },
    {
      "metadata": {
        "id": "3pREzsvKKvFz",
        "colab_type": "code",
        "colab": {}
      },
      "cell_type": "code",
      "source": [
        "#@title Please enter your password (normally your phone number) to continue: { run: \"auto\", display-mode: \"form\" }\n",
        "password = \"9945808877\" #@param {type:\"string\"}\n"
      ],
      "execution_count": 0,
      "outputs": []
    },
    {
      "metadata": {
        "id": "lUT3lVQiKxZC",
        "colab_type": "code",
        "cellView": "form",
        "outputId": "24133a5a-8f95-46ad-bf74-5a6141c570fa",
        "colab": {
          "base_uri": "https://localhost:8080/",
          "height": 34
        }
      },
      "cell_type": "code",
      "source": [
        "#@title Run this cell to complete the setup for this Notebook\n",
        "\n",
        "from IPython import get_ipython\n",
        "ipython = get_ipython()\n",
        "  \n",
        "notebook=\"BLR_M1W0_SUN_EXP_0\" #name of the notebook\n",
        "\n",
        "def setup():\n",
        "#  ipython.magic(\"sx pip3 install torch\")\n",
        "   \n",
        "   print (\"Setup completed successfully\")\n",
        "   return\n",
        "\n",
        "def submit_notebook():\n",
        "    \n",
        "    ipython.magic(\"notebook -e \"+ notebook + \".ipynb\")\n",
        "    \n",
        "    import requests, json, base64\n",
        "\n",
        "    url = \"https://dashboard.talentsprint.com/xp/app/save_notebook_attempts\"\n",
        "    if not submission_id:\n",
        "      data = {\"id\" : getId(), \"notebook\" : notebook, \"mobile\" : getPassword()}\n",
        "      r = requests.post(url, data = data)\n",
        "      r = json.loads(r.text)\n",
        "\n",
        "      if r[\"status\"] == \"Success\":\n",
        "          return r[\"record_id\"]\n",
        "      elif \"err\" in r:        \n",
        "        print(r[\"err\"])\n",
        "        return None        \n",
        "      else:\n",
        "        print (\"Something is wrong, the notebook will not be submitted for grading\")\n",
        "        return None\n",
        "\n",
        "    elif getComplexity() and getAdditional() and getConcepts():\n",
        "      f = open(notebook + \".ipynb\", \"rb\")\n",
        "      file_hash = base64.b64encode(f.read())\n",
        "\n",
        "      data = {\"complexity\" : Complexity, \"additional\" :Additional, \n",
        "              \"concepts\" : Concepts, \"record_id\" : submission_id, \n",
        "              \"id\" : Id, \"file_hash\" : file_hash, \"notebook\" : notebook}\n",
        "\n",
        "      r = requests.post(url, data = data)\n",
        "      print(\"Your submission is successful. Ref:\", submission_id)\n",
        "      return submission_id\n",
        "    else: submission_id\n",
        "    \n",
        "\n",
        "def getAdditional():\n",
        "  try:\n",
        "    if Additional: return Additional      \n",
        "    else: raise NameError('')\n",
        "  except NameError:\n",
        "    print (\"Please answer Additional Question\")\n",
        "    return None\n",
        "\n",
        "def getComplexity():\n",
        "  try:\n",
        "    return Complexity\n",
        "  except NameError:\n",
        "    print (\"Please answer Complexity Question\")\n",
        "    return None\n",
        "  \n",
        "def getConcepts():\n",
        "  try:\n",
        "    return Concepts\n",
        "  except NameError:\n",
        "    print (\"Please answer Concepts Question\")\n",
        "    return None\n",
        "\n",
        "def getId():\n",
        "  try: \n",
        "    return Id if Id else None\n",
        "  except NameError:\n",
        "    return None\n",
        "\n",
        "def getPassword():\n",
        "  try:\n",
        "    return password if password else None\n",
        "  except NameError:\n",
        "    return None\n",
        "\n",
        "submission_id = None\n",
        "### Setup \n",
        "if getPassword() and getId():\n",
        "  submission_id = submit_notebook()\n",
        "  if submission_id:\n",
        "    setup()\n",
        "  \n",
        "else:\n",
        "  print (\"Please complete Id and Password cells before running setup\")\n",
        "\n"
      ],
      "execution_count": 0,
      "outputs": [
        {
          "output_type": "stream",
          "text": [
            "Setup completed successfully\n"
          ],
          "name": "stdout"
        }
      ]
    },
    {
      "metadata": {
        "id": "xFtmfFjsKfDx",
        "colab_type": "text"
      },
      "cell_type": "markdown",
      "source": [
        "#### Integers\n",
        "The usual arithmetic operators are available: + for addition, - for subtraction and * for multiplication. "
      ]
    },
    {
      "metadata": {
        "id": "izjUFWtUKfDz",
        "colab_type": "code",
        "outputId": "7897d21a-9f81-469b-f3ff-1fd554e12b3b",
        "colab": {
          "base_uri": "https://localhost:8080/",
          "height": 119
        }
      },
      "cell_type": "code",
      "source": [
        "print(2 + 4)\n",
        "print(12878 + 1)\n",
        "print(7 - 3)\n",
        "print(127 - 128)\n",
        "print(8 * 6)\n",
        "print(17 * 12)"
      ],
      "execution_count": 0,
      "outputs": [
        {
          "output_type": "stream",
          "text": [
            "6\n",
            "12879\n",
            "4\n",
            "-1\n",
            "48\n",
            "204\n"
          ],
          "name": "stdout"
        }
      ]
    },
    {
      "metadata": {
        "id": "a4XpWidOKfD5",
        "colab_type": "text"
      },
      "cell_type": "markdown",
      "source": [
        "There are *two* division operators: / for everyday (float) division and // for truncating (integer) division "
      ]
    },
    {
      "metadata": {
        "id": "ctpoPMV7KfD6",
        "colab_type": "code",
        "outputId": "d0f15730-38df-4463-8fdf-f9eb27d48011",
        "colab": {
          "base_uri": "https://localhost:8080/",
          "height": 51
        }
      },
      "cell_type": "code",
      "source": [
        "print(17 / 4)\n",
        "print(17 // 4)"
      ],
      "execution_count": 0,
      "outputs": [
        {
          "output_type": "stream",
          "text": [
            "4.25\n",
            "4\n"
          ],
          "name": "stdout"
        }
      ]
    },
    {
      "metadata": {
        "id": "iZs29cj_KfD-",
        "colab_type": "text"
      },
      "cell_type": "markdown",
      "source": [
        "The modulo operator % and the exponentiation operator ** are also available. "
      ]
    },
    {
      "metadata": {
        "id": "awvgAhyvKfEB",
        "colab_type": "code",
        "outputId": "1b76556c-af1e-4264-afed-f1c5aaa59602",
        "colab": {
          "base_uri": "https://localhost:8080/",
          "height": 51
        }
      },
      "cell_type": "code",
      "source": [
        "print(18 % 3)\n",
        "print(72 % 5)"
      ],
      "execution_count": 0,
      "outputs": [
        {
          "output_type": "stream",
          "text": [
            "0\n",
            "2\n"
          ],
          "name": "stdout"
        }
      ]
    },
    {
      "metadata": {
        "id": "LPeWIpTLKfEF",
        "colab_type": "text"
      },
      "cell_type": "markdown",
      "source": [
        "The usual operator precedence rules and use of parentheses to override that are available"
      ]
    },
    {
      "metadata": {
        "id": "rc4RsXHtKfEH",
        "colab_type": "code",
        "outputId": "8cf7710b-f255-4696-8cf6-10f0e6445fa8",
        "colab": {
          "base_uri": "https://localhost:8080/",
          "height": 68
        }
      },
      "cell_type": "code",
      "source": [
        "print(10 ** 2 * 7 - 3)\n",
        "print(10 ** (2 * 7) - 3)\n",
        "print(10 ** (2 * 7 - 3))"
      ],
      "execution_count": 0,
      "outputs": [
        {
          "output_type": "stream",
          "text": [
            "697\n",
            "99999999999997\n",
            "100000000000\n"
          ],
          "name": "stdout"
        }
      ]
    },
    {
      "metadata": {
        "id": "2NP_-6c1KfEL",
        "colab_type": "code",
        "outputId": "79658478-3b0f-4ba0-ad36-be06abd5336a",
        "colab": {
          "base_uri": "https://localhost:8080/",
          "height": 71
        }
      },
      "cell_type": "code",
      "source": [
        "a = 123456789 \n",
        "b = a ** 2\n",
        "c = b ** 3\n",
        "d = c ** 4\n",
        "e = d ** 5\n",
        "print(e)\n",
        "print(len(str(e)))"
      ],
      "execution_count": 0,
      "outputs": [
        {
          "output_type": "stream",
          "text": [
            "95895286347222034791086605662811969785387106853901346544483953642680116799305429392916328044803964544906412568173586838975389693889466931724787382602209026851413718672992500945459050967973754074446682840115185173491232894943036718270805266686475439556591818306146142541531042457606878440869168972012200929781450791973866289435058898863980805449821148199924662026572772426330363272818353600292677639914650163602402387046082945396504228157351617787966026866638977428336270761039733807499229574152744708406709999198108421875593674670017724918532931998179661679487371607921869488779614480174654183050554148246295513430972687654798140382162446340357982348270186444388129720941541158390538541492685710752623852622720768334430468852097226917149171660953626254466986940765253382358001339174903296347169720023617297994349779160697050425373047121064748421434125128308764115407012030949147264066116731171517339637266846118243586757670417982965125332116703787163047835949441767799201\n",
            "971\n"
          ],
          "name": "stdout"
        }
      ]
    },
    {
      "metadata": {
        "id": "I9qFtScbTf6R",
        "colab_type": "code",
        "colab": {}
      },
      "cell_type": "code",
      "source": [
        "p = divmod"
      ],
      "execution_count": 0,
      "outputs": []
    },
    {
      "metadata": {
        "id": "TOefGuSRUBo4",
        "colab_type": "code",
        "colab": {}
      },
      "cell_type": "code",
      "source": [
        "divmod"
      ],
      "execution_count": 0,
      "outputs": []
    },
    {
      "metadata": {
        "id": "fVpXmEDkT28w",
        "colab_type": "code",
        "outputId": "d3c35b6a-96a0-4772-a96e-b1871ea77b62",
        "colab": {
          "base_uri": "https://localhost:8080/",
          "height": 34
        }
      },
      "cell_type": "code",
      "source": [
        "p(17, 5)"
      ],
      "execution_count": 0,
      "outputs": [
        {
          "output_type": "execute_result",
          "data": {
            "text/plain": [
              "(3, 2)"
            ]
          },
          "metadata": {
            "tags": []
          },
          "execution_count": 6
        }
      ]
    },
    {
      "metadata": {
        "id": "wgt2J68JZQ2Y",
        "colab_type": "code",
        "colab": {}
      },
      "cell_type": "code",
      "source": [
        "#Python Integers have no limit"
      ],
      "execution_count": 0,
      "outputs": []
    },
    {
      "metadata": {
        "id": "9dOByjOgKfEP",
        "colab_type": "text"
      },
      "cell_type": "markdown",
      "source": [
        "##### Assignment operators\n",
        "The standard assignment operators are available. That is,  $\\alpha$  $\\odot=\\beta$ is a shorthand for $\\alpha = \\alpha \\odot \\beta$\n",
        "where $\\odot$ is any binary arithmetic operator we saw above"
      ]
    },
    {
      "metadata": {
        "id": "Fdx9irq9KfER",
        "colab_type": "code",
        "outputId": "f9935fe4-c8b6-4902-a52b-01ee4911dd96",
        "colab": {
          "base_uri": "https://localhost:8080/",
          "height": 68
        }
      },
      "cell_type": "code",
      "source": [
        "a = 12\n",
        "b = 5\n",
        "a += b\n",
        "print(a, b)\n",
        "a -= b\n",
        "print(a, b)\n",
        "a *= b\n",
        "print(a, b)"
      ],
      "execution_count": 0,
      "outputs": [
        {
          "output_type": "stream",
          "text": [
            "17 5\n",
            "12 5\n",
            "60 5\n"
          ],
          "name": "stdout"
        }
      ]
    },
    {
      "metadata": {
        "id": "OGu0ohQZKfEX",
        "colab_type": "text"
      },
      "cell_type": "markdown",
      "source": [
        "#### Boolean\n",
        "The two constants True and False are defined.\n",
        "\n",
        "The usual boolean operators are also available: ==, !=, >, >=, <, <= "
      ]
    },
    {
      "metadata": {
        "id": "WbNWCkOJKfEZ",
        "colab_type": "code",
        "outputId": "8211eb64-b730-41f1-8eb5-8aaea59b8a95",
        "colab": {
          "base_uri": "https://localhost:8080/",
          "height": 34
        }
      },
      "cell_type": "code",
      "source": [
        "a = 12\n",
        "b = 13\n",
        "print(a == b - 1,a == b, a != b, a < b, a >= b)"
      ],
      "execution_count": 0,
      "outputs": [
        {
          "output_type": "stream",
          "text": [
            "True False True True False\n"
          ],
          "name": "stdout"
        }
      ]
    },
    {
      "metadata": {
        "id": "s17cZ5P8KfEe",
        "colab_type": "text"
      },
      "cell_type": "markdown",
      "source": [
        "#### Float\n",
        "Python has a float datatype (and it is the same as C's double!) and the above operations are available"
      ]
    },
    {
      "metadata": {
        "id": "1PQpB4V1KfEf",
        "colab_type": "code",
        "outputId": "7dece6ed-097b-47d4-ec14-1a91bb0c448b",
        "colab": {
          "base_uri": "https://localhost:8080/",
          "height": 119
        }
      },
      "cell_type": "code",
      "source": [
        "a = 12.9\n",
        "b = 3.6\n",
        "c = a + b\n",
        "d = a - b\n",
        "e = a * b #Watch out for the round off error!\n",
        "f = a / b\n",
        "print(a, b, c, d, e, f, sep=\"\\n\")"
      ],
      "execution_count": 0,
      "outputs": [
        {
          "output_type": "stream",
          "text": [
            "12.9\n",
            "3.6\n",
            "16.5\n",
            "9.3\n",
            "46.440000000000005\n",
            "3.5833333333333335\n"
          ],
          "name": "stdout"
        }
      ]
    },
    {
      "metadata": {
        "id": "5gbrXILoKfEo",
        "colab_type": "code",
        "outputId": "8f89e1f0-6534-4f3b-baa0-d2b5c545a10d",
        "colab": {
          "base_uri": "https://localhost:8080/",
          "height": 85
        }
      },
      "cell_type": "code",
      "source": [
        "##### UNDERSTAND FLOATING POINT IS ALWAYS APPROXIMATE!\n",
        "print(2/3)\n",
        "##### NEVER COMPARE floats FOR EQUALITY\n",
        "print(12.9 * 3.6 == 46.44)\n",
        "print(12.9 * 3.6 - 46.44)\n",
        "EPSILON = 0.0000001\n",
        "print(abs(12.9 * 3.6 - 46.44) <= EPSILON)"
      ],
      "execution_count": 0,
      "outputs": [
        {
          "output_type": "stream",
          "text": [
            "0.6666666666666666\n",
            "False\n",
            "7.105427357601002e-15\n",
            "True\n"
          ],
          "name": "stdout"
        }
      ]
    },
    {
      "metadata": {
        "id": "0IZR9YgoKfEt",
        "colab_type": "text"
      },
      "cell_type": "markdown",
      "source": [
        "#### Complex\n",
        "Complex numbers are built-in"
      ]
    },
    {
      "metadata": {
        "id": "So1plgP1KfEv",
        "colab_type": "code",
        "outputId": "de0ed80e-e7ce-4f2f-9c93-0d287aa130ab",
        "colab": {
          "base_uri": "https://localhost:8080/",
          "height": 85
        }
      },
      "cell_type": "code",
      "source": [
        "z = 3 - 4j\n",
        "print(z, z.real, z.imag, abs(z), sep=\"\\n\")"
      ],
      "execution_count": 0,
      "outputs": [
        {
          "output_type": "stream",
          "text": [
            "(3-4j)\n",
            "3.0\n",
            "-4.0\n",
            "5.0\n"
          ],
          "name": "stdout"
        }
      ]
    },
    {
      "metadata": {
        "id": "wFaSBXIAKfE1",
        "colab_type": "code",
        "colab": {}
      },
      "cell_type": "code",
      "source": [
        "x = 5 + 12j"
      ],
      "execution_count": 0,
      "outputs": []
    },
    {
      "metadata": {
        "id": "Z9XqGD2fKfE5",
        "colab_type": "code",
        "outputId": "04a78106-d146-42e7-bd09-dc7a9a2d7f81",
        "colab": {
          "base_uri": "https://localhost:8080/",
          "height": 85
        }
      },
      "cell_type": "code",
      "source": [
        "print(z + x, z - x, z * x, x / z, sep=\"\\n\")"
      ],
      "execution_count": 0,
      "outputs": [
        {
          "output_type": "stream",
          "text": [
            "(8+8j)\n",
            "(-2-16j)\n",
            "(63+16j)\n",
            "(-1.32+2.24j)\n"
          ],
          "name": "stdout"
        }
      ]
    },
    {
      "metadata": {
        "id": "aE9IsX11KfFB",
        "colab_type": "text"
      },
      "cell_type": "markdown",
      "source": [
        "#### Variables\n",
        "We have been using variables already. Python variable naming rules are simple and similar to all major programming languages\n",
        " * must start with a letter\n",
        " * can have letters, numbers and underscore\n",
        " * case sensitive\n",
        "\n",
        "*Note that we need not declare variables but using an undefined variable is an error*"
      ]
    },
    {
      "metadata": {
        "id": "2jSqRai6KfFD",
        "colab_type": "code",
        "colab": {}
      },
      "cell_type": "code",
      "source": [
        "z = 3 - 4*j"
      ],
      "execution_count": 0,
      "outputs": []
    },
    {
      "metadata": {
        "id": "LwQ0vjLfK8ga",
        "colab_type": "text"
      },
      "cell_type": "markdown",
      "source": [
        "### Please answer the questions below to complete the experiment:\n"
      ]
    },
    {
      "metadata": {
        "id": "NtIZ_v_nKfFK",
        "colab_type": "code",
        "colab": {}
      },
      "cell_type": "code",
      "source": [
        "#@title How was the experiment? { run: \"auto\", form-width: \"500px\", display-mode: \"form\" }\n",
        "Complexity = \"\" #@param [\"Too Simple, I am wasting time\", \"Good, But Not Challenging for me\", \"Good and Challenging me\", \"Was Tough, but I did it\", \"Too Difficult for me\"]\n"
      ],
      "execution_count": 0,
      "outputs": []
    },
    {
      "metadata": {
        "id": "l7PXNAsGKfFP",
        "colab_type": "code",
        "colab": {}
      },
      "cell_type": "code",
      "source": [
        "#@title If it was very easy, what more you would have liked to have been added? If it was very difficult, what would you have liked to have been removed? { run: \"auto\", display-mode: \"form\" }\n",
        "Additional = \"\" #@param {type:\"string\"}"
      ],
      "execution_count": 0,
      "outputs": []
    },
    {
      "metadata": {
        "id": "OT81JK6VLDAb",
        "colab_type": "code",
        "colab": {}
      },
      "cell_type": "code",
      "source": [
        "#@title Can you identify the concepts from the lecture which this experiment covered? { run: \"auto\", vertical-output: true, display-mode: \"form\" }\n",
        "Concepts = \"Yes\" #@param [\"Yes\", \"No\"]"
      ],
      "execution_count": 0,
      "outputs": []
    },
    {
      "metadata": {
        "id": "olk5_atSLFXm",
        "colab_type": "code",
        "cellView": "both",
        "outputId": "396f4d41-db82-4d74-c5c9-94e4468f9cd7",
        "colab": {
          "base_uri": "https://localhost:8080/",
          "height": 34
        }
      },
      "cell_type": "code",
      "source": [
        "#@title Run this cell to submit your notebook for grading { vertical-output: true }\n",
        "try:\n",
        "  if submission_id:\n",
        "      return_id = submit_notebook()\n",
        "      if return_id : submission_id =return_id\n",
        "  else:\n",
        "      print(\"Please complete the setup first.\")\n",
        "except NameError:\n",
        "  print (\"Please complete the setup first.\")"
      ],
      "execution_count": 0,
      "outputs": [
        {
          "output_type": "stream",
          "text": [
            "Please complete the setup first.\n"
          ],
          "name": "stdout"
        }
      ]
    }
  ]
}